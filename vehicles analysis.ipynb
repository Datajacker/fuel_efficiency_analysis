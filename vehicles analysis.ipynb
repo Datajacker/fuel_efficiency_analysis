{
 "cells": [
  {
   "cell_type": "markdown",
   "metadata": {},
   "source": [
    "Data is directly taken from the FuelEconomy.gov from U.S. Department of Energy.\n",
    "\n",
    "Questions to be explored?\n",
    "\n",
    "* Which manufacturer produces the most fuel efficient fleet of cars (type_1 & type_2)?\n",
    "\n",
    "* Build a model to predict city mpg (variable “UCity” in column BG).\n"
   ]
  },
  {
   "cell_type": "markdown",
   "metadata": {},
   "source": [
    "# 1. Exploratory Data Analysis\n",
    "\n",
    "--> Understand each features and how they are related to our target problems\n",
    "\n",
    "--> Basic visualization of raw data"
   ]
  },
  {
   "cell_type": "code",
   "execution_count": 33,
   "metadata": {},
   "outputs": [],
   "source": [
    "import pandas as pd\n",
    "import matplotlib.pyplot as plt\n",
    "from sklearn.linear_model import LinearRegression\n",
    "from sklearn.model_selection import train_test_split\n",
    "from sklearn.metrics import r2_score, explained_variance_score, mean_absolute_error, mean_squared_error\n",
    "import seaborn as sns"
   ]
  },
  {
   "cell_type": "code",
   "execution_count": 2,
   "metadata": {},
   "outputs": [
    {
     "name": "stderr",
     "output_type": "stream",
     "text": [
      "C:\\Users\\yijia\\Anaconda3\\lib\\site-packages\\IPython\\core\\interactiveshell.py:3020: DtypeWarning: Columns (73,74,76) have mixed types. Specify dtype option on import or set low_memory=False.\n",
      "  interactivity=interactivity, compiler=compiler, result=result)\n"
     ]
    }
   ],
   "source": [
    "vehicles = pd.read_csv('vehicles.csv')"
   ]
  },
  {
   "cell_type": "code",
   "execution_count": 3,
   "metadata": {},
   "outputs": [
    {
     "data": {
      "text/html": [
       "<div>\n",
       "<style scoped>\n",
       "    .dataframe tbody tr th:only-of-type {\n",
       "        vertical-align: middle;\n",
       "    }\n",
       "\n",
       "    .dataframe tbody tr th {\n",
       "        vertical-align: top;\n",
       "    }\n",
       "\n",
       "    .dataframe thead th {\n",
       "        text-align: right;\n",
       "    }\n",
       "</style>\n",
       "<table border=\"1\" class=\"dataframe\">\n",
       "  <thead>\n",
       "    <tr style=\"text-align: right;\">\n",
       "      <th></th>\n",
       "      <th>barrels08</th>\n",
       "      <th>barrelsA08</th>\n",
       "      <th>charge120</th>\n",
       "      <th>charge240</th>\n",
       "      <th>city08</th>\n",
       "      <th>city08U</th>\n",
       "      <th>cityA08</th>\n",
       "      <th>cityA08U</th>\n",
       "      <th>cityCD</th>\n",
       "      <th>cityE</th>\n",
       "      <th>...</th>\n",
       "      <th>mfrCode</th>\n",
       "      <th>c240Dscr</th>\n",
       "      <th>charge240b</th>\n",
       "      <th>c240bDscr</th>\n",
       "      <th>createdOn</th>\n",
       "      <th>modifiedOn</th>\n",
       "      <th>startStop</th>\n",
       "      <th>phevCity</th>\n",
       "      <th>phevHwy</th>\n",
       "      <th>phevComb</th>\n",
       "    </tr>\n",
       "  </thead>\n",
       "  <tbody>\n",
       "    <tr>\n",
       "      <th>0</th>\n",
       "      <td>15.695714</td>\n",
       "      <td>0.0</td>\n",
       "      <td>0.0</td>\n",
       "      <td>0.0</td>\n",
       "      <td>19</td>\n",
       "      <td>0.0</td>\n",
       "      <td>0</td>\n",
       "      <td>0.0</td>\n",
       "      <td>0.0</td>\n",
       "      <td>0.0</td>\n",
       "      <td>...</td>\n",
       "      <td>NaN</td>\n",
       "      <td>NaN</td>\n",
       "      <td>0.0</td>\n",
       "      <td>NaN</td>\n",
       "      <td>Tue Jan 01 00:00:00 EST 2013</td>\n",
       "      <td>Tue Jan 01 00:00:00 EST 2013</td>\n",
       "      <td>NaN</td>\n",
       "      <td>0</td>\n",
       "      <td>0</td>\n",
       "      <td>0</td>\n",
       "    </tr>\n",
       "    <tr>\n",
       "      <th>1</th>\n",
       "      <td>29.964545</td>\n",
       "      <td>0.0</td>\n",
       "      <td>0.0</td>\n",
       "      <td>0.0</td>\n",
       "      <td>9</td>\n",
       "      <td>0.0</td>\n",
       "      <td>0</td>\n",
       "      <td>0.0</td>\n",
       "      <td>0.0</td>\n",
       "      <td>0.0</td>\n",
       "      <td>...</td>\n",
       "      <td>NaN</td>\n",
       "      <td>NaN</td>\n",
       "      <td>0.0</td>\n",
       "      <td>NaN</td>\n",
       "      <td>Tue Jan 01 00:00:00 EST 2013</td>\n",
       "      <td>Tue Jan 01 00:00:00 EST 2013</td>\n",
       "      <td>NaN</td>\n",
       "      <td>0</td>\n",
       "      <td>0</td>\n",
       "      <td>0</td>\n",
       "    </tr>\n",
       "    <tr>\n",
       "      <th>2</th>\n",
       "      <td>12.207778</td>\n",
       "      <td>0.0</td>\n",
       "      <td>0.0</td>\n",
       "      <td>0.0</td>\n",
       "      <td>23</td>\n",
       "      <td>0.0</td>\n",
       "      <td>0</td>\n",
       "      <td>0.0</td>\n",
       "      <td>0.0</td>\n",
       "      <td>0.0</td>\n",
       "      <td>...</td>\n",
       "      <td>NaN</td>\n",
       "      <td>NaN</td>\n",
       "      <td>0.0</td>\n",
       "      <td>NaN</td>\n",
       "      <td>Tue Jan 01 00:00:00 EST 2013</td>\n",
       "      <td>Tue Jan 01 00:00:00 EST 2013</td>\n",
       "      <td>NaN</td>\n",
       "      <td>0</td>\n",
       "      <td>0</td>\n",
       "      <td>0</td>\n",
       "    </tr>\n",
       "    <tr>\n",
       "      <th>3</th>\n",
       "      <td>29.964545</td>\n",
       "      <td>0.0</td>\n",
       "      <td>0.0</td>\n",
       "      <td>0.0</td>\n",
       "      <td>10</td>\n",
       "      <td>0.0</td>\n",
       "      <td>0</td>\n",
       "      <td>0.0</td>\n",
       "      <td>0.0</td>\n",
       "      <td>0.0</td>\n",
       "      <td>...</td>\n",
       "      <td>NaN</td>\n",
       "      <td>NaN</td>\n",
       "      <td>0.0</td>\n",
       "      <td>NaN</td>\n",
       "      <td>Tue Jan 01 00:00:00 EST 2013</td>\n",
       "      <td>Tue Jan 01 00:00:00 EST 2013</td>\n",
       "      <td>NaN</td>\n",
       "      <td>0</td>\n",
       "      <td>0</td>\n",
       "      <td>0</td>\n",
       "    </tr>\n",
       "    <tr>\n",
       "      <th>4</th>\n",
       "      <td>17.347895</td>\n",
       "      <td>0.0</td>\n",
       "      <td>0.0</td>\n",
       "      <td>0.0</td>\n",
       "      <td>17</td>\n",
       "      <td>0.0</td>\n",
       "      <td>0</td>\n",
       "      <td>0.0</td>\n",
       "      <td>0.0</td>\n",
       "      <td>0.0</td>\n",
       "      <td>...</td>\n",
       "      <td>NaN</td>\n",
       "      <td>NaN</td>\n",
       "      <td>0.0</td>\n",
       "      <td>NaN</td>\n",
       "      <td>Tue Jan 01 00:00:00 EST 2013</td>\n",
       "      <td>Tue Jan 01 00:00:00 EST 2013</td>\n",
       "      <td>NaN</td>\n",
       "      <td>0</td>\n",
       "      <td>0</td>\n",
       "      <td>0</td>\n",
       "    </tr>\n",
       "  </tbody>\n",
       "</table>\n",
       "<p>5 rows × 83 columns</p>\n",
       "</div>"
      ],
      "text/plain": [
       "   barrels08  barrelsA08  charge120  charge240  city08  city08U  cityA08  \\\n",
       "0  15.695714         0.0        0.0        0.0      19      0.0        0   \n",
       "1  29.964545         0.0        0.0        0.0       9      0.0        0   \n",
       "2  12.207778         0.0        0.0        0.0      23      0.0        0   \n",
       "3  29.964545         0.0        0.0        0.0      10      0.0        0   \n",
       "4  17.347895         0.0        0.0        0.0      17      0.0        0   \n",
       "\n",
       "   cityA08U  cityCD  cityE    ...     mfrCode  c240Dscr  charge240b  \\\n",
       "0       0.0     0.0    0.0    ...         NaN       NaN         0.0   \n",
       "1       0.0     0.0    0.0    ...         NaN       NaN         0.0   \n",
       "2       0.0     0.0    0.0    ...         NaN       NaN         0.0   \n",
       "3       0.0     0.0    0.0    ...         NaN       NaN         0.0   \n",
       "4       0.0     0.0    0.0    ...         NaN       NaN         0.0   \n",
       "\n",
       "   c240bDscr                     createdOn                    modifiedOn  \\\n",
       "0        NaN  Tue Jan 01 00:00:00 EST 2013  Tue Jan 01 00:00:00 EST 2013   \n",
       "1        NaN  Tue Jan 01 00:00:00 EST 2013  Tue Jan 01 00:00:00 EST 2013   \n",
       "2        NaN  Tue Jan 01 00:00:00 EST 2013  Tue Jan 01 00:00:00 EST 2013   \n",
       "3        NaN  Tue Jan 01 00:00:00 EST 2013  Tue Jan 01 00:00:00 EST 2013   \n",
       "4        NaN  Tue Jan 01 00:00:00 EST 2013  Tue Jan 01 00:00:00 EST 2013   \n",
       "\n",
       "   startStop  phevCity  phevHwy  phevComb  \n",
       "0        NaN         0        0         0  \n",
       "1        NaN         0        0         0  \n",
       "2        NaN         0        0         0  \n",
       "3        NaN         0        0         0  \n",
       "4        NaN         0        0         0  \n",
       "\n",
       "[5 rows x 83 columns]"
      ]
     },
     "execution_count": 3,
     "metadata": {},
     "output_type": "execute_result"
    }
   ],
   "source": [
    "vehicles.head()"
   ]
  },
  {
   "cell_type": "markdown",
   "metadata": {},
   "source": [
    "## 1.1 Feature interpretation"
   ]
  },
  {
   "cell_type": "code",
   "execution_count": 4,
   "metadata": {
    "scrolled": true
   },
   "outputs": [
    {
     "name": "stdout",
     "output_type": "stream",
     "text": [
      "<class 'pandas.core.frame.DataFrame'>\n",
      "RangeIndex: 40081 entries, 0 to 40080\n",
      "Data columns (total 83 columns):\n",
      "barrels08          40081 non-null float64\n",
      "barrelsA08         40081 non-null float64\n",
      "charge120          40081 non-null float64\n",
      "charge240          40081 non-null float64\n",
      "city08             40081 non-null int64\n",
      "city08U            40081 non-null float64\n",
      "cityA08            40081 non-null int64\n",
      "cityA08U           40081 non-null float64\n",
      "cityCD             40081 non-null float64\n",
      "cityE              40081 non-null float64\n",
      "cityUF             40081 non-null float64\n",
      "co2                40081 non-null int64\n",
      "co2A               40081 non-null int64\n",
      "co2TailpipeAGpm    40081 non-null float64\n",
      "co2TailpipeGpm     40081 non-null float64\n",
      "comb08             40081 non-null int64\n",
      "comb08U            40081 non-null float64\n",
      "combA08            40081 non-null int64\n",
      "combA08U           40081 non-null float64\n",
      "combE              40081 non-null float64\n",
      "combinedCD         40081 non-null float64\n",
      "combinedUF         40081 non-null float64\n",
      "cylinders          39910 non-null float64\n",
      "displ              39912 non-null float64\n",
      "drive              38892 non-null object\n",
      "engId              40081 non-null int64\n",
      "eng_dscr           24182 non-null object\n",
      "feScore            40081 non-null int64\n",
      "fuelCost08         40081 non-null int64\n",
      "fuelCostA08        40081 non-null int64\n",
      "fuelType           40081 non-null object\n",
      "fuelType1          40081 non-null object\n",
      "ghgScore           40081 non-null int64\n",
      "ghgScoreA          40081 non-null int64\n",
      "highway08          40081 non-null int64\n",
      "highway08U         40081 non-null float64\n",
      "highwayA08         40081 non-null int64\n",
      "highwayA08U        40081 non-null float64\n",
      "highwayCD          40081 non-null float64\n",
      "highwayE           40081 non-null float64\n",
      "highwayUF          40081 non-null float64\n",
      "hlv                40081 non-null int64\n",
      "hpv                40081 non-null int64\n",
      "id                 40081 non-null int64\n",
      "lv2                40081 non-null int64\n",
      "lv4                40081 non-null int64\n",
      "make               40081 non-null object\n",
      "model              40081 non-null object\n",
      "mpgData            40081 non-null object\n",
      "phevBlended        40081 non-null bool\n",
      "pv2                40081 non-null int64\n",
      "pv4                40081 non-null int64\n",
      "range              40081 non-null int64\n",
      "rangeCity          40081 non-null float64\n",
      "rangeCityA         40081 non-null float64\n",
      "rangeHwy           40081 non-null float64\n",
      "rangeHwyA          40081 non-null float64\n",
      "trany              40070 non-null object\n",
      "UCity              40081 non-null float64\n",
      "UCityA             40081 non-null float64\n",
      "UHighway           40081 non-null float64\n",
      "UHighwayA          40081 non-null float64\n",
      "VClass             40081 non-null object\n",
      "year               40081 non-null int64\n",
      "youSaveSpend       40081 non-null int64\n",
      "guzzler            2377 non-null object\n",
      "trans_dscr         15047 non-null object\n",
      "tCharger           6302 non-null object\n",
      "sCharger           796 non-null object\n",
      "atvType            3374 non-null object\n",
      "fuelType2          1547 non-null object\n",
      "rangeA             1542 non-null object\n",
      "evMotor            736 non-null object\n",
      "mfrCode            9263 non-null object\n",
      "c240Dscr           65 non-null object\n",
      "charge240b         40081 non-null float64\n",
      "c240bDscr          63 non-null object\n",
      "createdOn          40081 non-null object\n",
      "modifiedOn         40081 non-null object\n",
      "startStop          8377 non-null object\n",
      "phevCity           40081 non-null int64\n",
      "phevHwy            40081 non-null int64\n",
      "phevComb           40081 non-null int64\n",
      "dtypes: bool(1), float64(32), int64(27), object(23)\n",
      "memory usage: 25.1+ MB\n"
     ]
    }
   ],
   "source": [
    "vehicles.info()"
   ]
  },
  {
   "cell_type": "markdown",
   "metadata": {},
   "source": [
    "* A brief description of each feature is listed in the following. The detailed information can be accessed with https://www.fueleconomy.gov/feg/ws/index.shtml#vehicle\n",
    "* barrels08 - annual petroleum consumption in barrels for fuelType1 (1)\n",
    "* barrelsA08 - annual petroleum consumption in barrels for fuelType2 (1)\n",
    "* charge120 - time to charge an electric vehicle in hours at 120 V\n",
    "* charge240 - time to charge an electric vehicle in hours at 240 V\n",
    "* city08 - city MPG for fuelType1 (2), (11)\n",
    "* city08U - unrounded city MPG for fuelType1 (2), (3)\n",
    "* cityA08 - city MPG for fuelType2 (2)\n",
    "* cityA08U - unrounded city MPG for fuelType2 (2), (3)\n",
    "* cityCD - city gasoline consumption (gallons/100 miles) in charge depleting mode (4)\n",
    "* cityE - city electricity consumption in kw-hrs/100 miles\n",
    "* cityUF - EPA city utility factor (share of electricity) for PHEV\n",
    "* co2 - tailpipe CO2 in grams/mile for fuelType1 (5)\n",
    "* co2A - tailpipe CO2 in grams/mile for fuelType2 (5)\n",
    "* co2TailpipeAGpm - tailpipe CO2 in grams/mile for fuelType2 (5)\n",
    "* co2TailpipeGpm- tailpipe CO2 in grams/mile for fuelType1 (5)\n",
    "* comb08 - combined MPG for fuelType1 (2), (11)\n",
    "* comb08U - unrounded combined MPG for fuelType1 (2), (3)\n",
    "* combA08 - combined MPG for fuelType2 (2)\n",
    "* combA08U - unrounded combined MPG for fuelType2 (2), (3)\n",
    "* combE - combined electricity consumption in kw-hrs/100 miles\n",
    "* combinedCD - combined gasoline consumption (gallons/100 miles) in charge depleting mode (4)\n",
    "* combinedUF - EPA combined utility factor (share of electricity) for PHEV\n",
    "* cylinders - engine cylinders\n",
    "* displ - engine displacement in liters\n",
    "* drive - drive axle type\n",
    "* emissionsList\n",
    "* engId - EPA model type index\n",
    "* eng_dscr - engine descriptor; see http://www.fueleconomy.gov/feg/findacarhelp.shtml#engine\n",
    "* evMotor - electric motor (kw-hrs)\n",
    "* feScore - EPA Fuel Economy Score (-1 = Not available)\n",
    "* fuelCost08 - annual fuel cost for fuelType1 ($) (7)\n",
    "* fuelCostA08 - annual fuel cost for fuelType2 ($) (7)\n",
    "* fuelType - fuel type with fuelType1 and fuelType2 (if applicable)\n",
    "* fuelType1 - fuel type 1. For single fuel vehicles, this will be the only fuel. For dual fuel vehicles, this will be the conventional fuel.\n",
    "* fuelType2 - fuel type 2. For dual fuel vehicles, this will be the alternative fuel (e.g. E85, Electricity, CNG, LPG). For single fuel vehicles, this field is not used\n",
    "* ghgScore - EPA GHG score (-1 = Not available)\n",
    "* ghgScoreA - EPA GHG score for dual fuel vehicle running on the alternative fuel (-1 = Not available)\n",
    "* guzzler- if G or T, this vehicle is subject to the gas guzzler tax\n",
    "* highway08 - highway MPG for fuelType1 (2), (11)\n",
    "* highway08U - unrounded highway MPG for fuelType1 (2), (3)\n",
    "* highwayA08 - highway MPG for fuelType2 (2)\n",
    "* highwayA08U - unrounded highway MPG for fuelType2 (2),(3)\n",
    "* highwayCD - highway gasoline consumption (gallons/100miles) in charge depleting mode (4)\n",
    "* highwayE - highway electricity consumption in kw-hrs/100 miles\n",
    "* highwayUF - EPA highway utility factor (share of electricity) for PHEV\n",
    "* hlv - hatchback luggage volume (cubic feet) (8)\n",
    "* hpv - hatchback passenger volume (cubic feet) (8)\n",
    "* id - vehicle record id\n",
    "* lv2 - 2 door luggage volume (cubic feet) (8)\n",
    "* lv4 - 4 door luggage volume (cubic feet) (8)\n",
    "* make - manufacturer (division)\n",
    "* mfrCode - 3-character manufacturer code\n",
    "* model - model name (carline)\n",
    "* mpgData - has My MPG data; see yourMpgVehicle and yourMpgDriverVehicle\n",
    "* phevBlended - if true, this vehicle operates on a blend of gasoline and electricity in charge depleting mode\n",
    "* pv2 - 2-door passenger volume (cubic feet) (8)\n",
    "* pv4 - 4-door passenger volume (cubic feet) (8)\n",
    "* rangeA - EPA range for fuelType2\n",
    "* rangeCityA - EPA city range for fuelType2\n",
    "* rangeHwyA - EPA highway range for fuelType2\n",
    "* trans_dscr - transmission descriptor; see http://www.fueleconomy.gov/feg/findacarhelp.shtml#trany\n",
    "* trany - transmission\n",
    "* UCity - unadjusted city MPG for fuelType1; see the description of the EPA test procedures\n",
    "* UCityA - unadjusted city MPG for fuelType2; see the description of the EPA test procedures\n",
    "* UHighway - unadjusted highway MPG for fuelType1; see the description of the EPA test procedures\n",
    "* UHighwayA - unadjusted highway MPG for fuelType2; see the description of the EPA test procedures\n",
    "* VClass - EPA vehicle size class\n",
    "* year - model year\n",
    "* youSaveSpend - you save/spend over 5 years compared to an average car ($). Savings are positive; a greater amount spent yields a negative number. For dual fuel vehicles, this is the cost savings for gasoline\n",
    "* sCharger - if S, this vehicle is supercharged\n",
    "* tCharger - if T, this vehicle is turbocharged\n",
    "* c240Dscr - electric vehicle charger description\n",
    "* charge240b - time to charge an electric vehicle in hours at 240 V using the alternate charger\n",
    "* c240bDscr - electric vehicle alternate charger description\n",
    "* createdOn - date the vehicle record was created (ISO 8601 format)\n",
    "* modifiedOn - date the vehicle record was last modified (ISO 8601 format)\n",
    "* startStop - vehicle has start-stop technology (Y, N, or blank for older vehicles)\n",
    "* phevCity - EPA composite gasoline-electricity city MPGe for plug-in hybrid vehicles\n",
    "* phevHwy - EPA composite gasoline-electricity highway MPGe for plug-in hybrid vehicles\n",
    "* phevComb - EPA composite gasoline-electricity combined city-highway MPGe for plug-in hybrid vehicles"
   ]
  },
  {
   "cell_type": "markdown",
   "metadata": {},
   "source": [
    "## 1.2 Vehicle analysis"
   ]
  },
  {
   "cell_type": "code",
   "execution_count": 5,
   "metadata": {},
   "outputs": [
    {
     "data": {
      "text/plain": [
       "array(['Alfa Romeo', 'Ferrari', 'Dodge', 'Subaru', 'Toyota', 'Volkswagen',\n",
       "       'Volvo', 'Audi', 'BMW', 'Buick', 'Cadillac', 'Chevrolet',\n",
       "       'Chrysler', 'CX Automotive', 'Nissan', 'Ford', 'Hyundai',\n",
       "       'Infiniti', 'Lexus', 'Mercury', 'Mazda', 'Oldsmobile', 'Plymouth',\n",
       "       'Pontiac', 'Rolls-Royce', 'Eagle', 'Lincoln', 'Mercedes-Benz',\n",
       "       'GMC', 'Saab', 'Honda', 'Saturn', 'Mitsubishi', 'Isuzu', 'Jeep',\n",
       "       'AM General', 'Geo', 'Suzuki', 'E. P. Dutton, Inc.', 'Land Rover',\n",
       "       'PAS, Inc', 'Acura', 'Jaguar', 'Lotus', 'Grumman Olson', 'Porsche',\n",
       "       'American Motors Corporation', 'Kia', 'Lamborghini',\n",
       "       'Panoz Auto-Development', 'Maserati', 'Saleen', 'Aston Martin',\n",
       "       'Dabryan Coach Builders Inc', 'Federal Coach', 'Vector', 'Bentley',\n",
       "       'Daewoo', 'Qvale', 'Roush Performance', 'Autokraft Limited',\n",
       "       'Bertone', 'Panther Car Company Limited', 'Texas Coach Company',\n",
       "       'TVR Engineering Ltd', 'Morgan', 'MINI', 'Yugo', 'BMW Alpina',\n",
       "       'Renault', 'Bitter Gmbh and Co. Kg', 'Scion', 'Maybach',\n",
       "       'Lambda Control Systems', 'Merkur', 'Peugeot', 'Spyker',\n",
       "       'London Coach Co Inc', 'Hummer', 'Bugatti', 'Pininfarina',\n",
       "       'Shelby', 'Saleen Performance', 'smart', 'Tecstar, LP',\n",
       "       'Kenyon Corporation Of America', 'Avanti Motor Corporation',\n",
       "       'Bill Dovell Motor Car Company', 'Import Foreign Auto Sales Inc',\n",
       "       'S and S Coach Company  E.p. Dutton',\n",
       "       'Superior Coaches Div E.p. Dutton', 'Vixen Motor Company',\n",
       "       'Volga Associated Automobile', 'Wallace Environmental',\n",
       "       'Import Trade Services', 'J.K. Motors', 'Panos',\n",
       "       'Quantum Technologies', 'London Taxi', 'Red Shift Ltd.',\n",
       "       'Ruf Automobile Gmbh', 'Excalibur Autos', 'Mahindra', 'VPG',\n",
       "       'Fiat', 'Sterling', 'Azure Dynamics', 'McLaren Automotive', 'Ram',\n",
       "       'CODA Automotive', 'Fisker', 'Tesla', 'Mcevoy Motors', 'BYD',\n",
       "       'ASC Incorporated', 'SRT', 'CCC Engineering',\n",
       "       'Mobility Ventures LLC', 'Pagani', 'Genesis', 'Karma',\n",
       "       'Koenigsegg', 'Aurora Cars Ltd', 'Dacia', 'Daihatsu',\n",
       "       'JBA Motorcars, Inc.', 'Grumman Allied Industries',\n",
       "       'Environmental Rsch and Devp Corp', 'Evans Automobiles',\n",
       "       'Laforza Automobile Inc', 'General Motors',\n",
       "       'Consulier Industries Inc', 'Goldacre', 'Isis Imports Ltd',\n",
       "       'PAS Inc - GMC'], dtype=object)"
      ]
     },
     "execution_count": 5,
     "metadata": {},
     "output_type": "execute_result"
    }
   ],
   "source": [
    "vehicles.make.unique()"
   ]
  },
  {
   "cell_type": "code",
   "execution_count": 6,
   "metadata": {},
   "outputs": [
    {
     "name": "stdout",
     "output_type": "stream",
     "text": [
      "Chevrolet        3944\n",
      "Ford             3284\n",
      "Dodge            2559\n",
      "GMC              2471\n",
      "Toyota           2010\n",
      "BMW              1856\n",
      "Mercedes-Benz    1444\n",
      "Nissan           1424\n",
      "Volkswagen       1155\n",
      "Mitsubishi       1052\n",
      "Name: make, dtype: int64\n",
      "Koenigsegg                            1\n",
      "Volga Associated Automobile           1\n",
      "Import Foreign Auto Sales Inc         1\n",
      "S and S Coach Company  E.p. Dutton    1\n",
      "Vixen Motor Company                   1\n",
      "Panos                                 1\n",
      "Fisker                                1\n",
      "Panoz Auto-Development                1\n",
      "Isis Imports Ltd                      1\n",
      "General Motors                        1\n",
      "Name: make, dtype: int64\n"
     ]
    }
   ],
   "source": [
    "print(vehicles.make.value_counts().head(10))\n",
    "print(vehicles.make.value_counts().tail(10))"
   ]
  },
  {
   "cell_type": "code",
   "execution_count": 9,
   "metadata": {},
   "outputs": [
    {
     "data": {
      "text/plain": [
       "Regular                        25997\n",
       "Premium                        11067\n",
       "Gasoline or E85                 1287\n",
       "Diesel                          1142\n",
       "Electricity                      168\n",
       "Premium or E85                   125\n",
       "Midgrade                         100\n",
       "CNG                               60\n",
       "Premium and Electricity           47\n",
       "Regular Gas and Electricity       29\n",
       "Premium Gas or Electricity        28\n",
       "Gasoline or natural gas           20\n",
       "Gasoline or propane                8\n",
       "Regular Gas or Electricity         3\n",
       "Name: fuelType, dtype: int64"
      ]
     },
     "execution_count": 9,
     "metadata": {},
     "output_type": "execute_result"
    }
   ],
   "source": [
    "vehicles.fuelType.value_counts()"
   ]
  },
  {
   "cell_type": "code",
   "execution_count": 10,
   "metadata": {},
   "outputs": [
    {
     "data": {
      "text/plain": [
       "Regular Gasoline     27344\n",
       "Premium Gasoline     11267\n",
       "Diesel                1142\n",
       "Electricity            168\n",
       "Midgrade Gasoline      100\n",
       "Natural Gas             60\n",
       "Name: fuelType1, dtype: int64"
      ]
     },
     "execution_count": 10,
     "metadata": {},
     "output_type": "execute_result"
    }
   ],
   "source": [
    "vehicles.fuelType1.value_counts()"
   ]
  },
  {
   "cell_type": "code",
   "execution_count": 11,
   "metadata": {},
   "outputs": [
    {
     "data": {
      "text/plain": [
       "E85            1412\n",
       "Electricity     107\n",
       "Natural Gas      20\n",
       "Propane           8\n",
       "Name: fuelType2, dtype: int64"
      ]
     },
     "execution_count": 11,
     "metadata": {},
     "output_type": "execute_result"
    }
   ],
   "source": [
    "vehicles.fuelType2.value_counts()"
   ]
  },
  {
   "cell_type": "code",
   "execution_count": 12,
   "metadata": {},
   "outputs": [
    {
     "data": {
      "text/plain": [
       "0"
      ]
     },
     "execution_count": 12,
     "metadata": {},
     "output_type": "execute_result"
    }
   ],
   "source": [
    "vehicles.fuelType.isnull().sum()"
   ]
  },
  {
   "cell_type": "code",
   "execution_count": 13,
   "metadata": {},
   "outputs": [
    {
     "data": {
      "text/plain": [
       "0"
      ]
     },
     "execution_count": 13,
     "metadata": {},
     "output_type": "execute_result"
    }
   ],
   "source": [
    "vehicles.fuelType1.isnull().sum()"
   ]
  },
  {
   "cell_type": "code",
   "execution_count": 14,
   "metadata": {},
   "outputs": [
    {
     "data": {
      "text/plain": [
       "38534"
      ]
     },
     "execution_count": 14,
     "metadata": {},
     "output_type": "execute_result"
    }
   ],
   "source": [
    "vehicles.fuelType2.isnull().sum()"
   ]
  },
  {
   "cell_type": "code",
   "execution_count": 15,
   "metadata": {},
   "outputs": [
    {
     "data": {
      "text/plain": [
       "38534"
      ]
     },
     "execution_count": 15,
     "metadata": {},
     "output_type": "execute_result"
    }
   ],
   "source": [
    "vehicles['fuelType2'].isnull().sum()"
   ]
  },
  {
   "cell_type": "code",
   "execution_count": 16,
   "metadata": {},
   "outputs": [
    {
     "data": {
      "text/plain": [
       "N    27367\n",
       "Y    12714\n",
       "Name: mpgData, dtype: int64"
      ]
     },
     "execution_count": 16,
     "metadata": {},
     "output_type": "execute_result"
    }
   ],
   "source": [
    "vehicles.mpgData.value_counts()"
   ]
  },
  {
   "cell_type": "markdown",
   "metadata": {},
   "source": [
    "## 1.3 Which manufacturer produces the most fuel-efficient fleet of type-1 cars?"
   ]
  },
  {
   "cell_type": "code",
   "execution_count": 7,
   "metadata": {},
   "outputs": [
    {
     "name": "stdout",
     "output_type": "stream",
     "text": [
      "The maximum mpg is 136 for type 1, and the car is manufactured by Hyundai.\n"
     ]
    }
   ],
   "source": [
    "max_name_1 = list(vehicles.make[vehicles.comb08 == vehicles.comb08.max()])[0]\n",
    "max_mpg_1 = vehicles.comb08.max()\n",
    "print('The maximum mpg is {} for type 1, and the car is manufactured by {}.'.format(max_mpg_1, max_name_1))"
   ]
  },
  {
   "cell_type": "markdown",
   "metadata": {},
   "source": [
    "## 1.4 Which manufacturer produces the most fuel-efficient fleet of type-2 cars?"
   ]
  },
  {
   "cell_type": "code",
   "execution_count": 8,
   "metadata": {},
   "outputs": [
    {
     "name": "stdout",
     "output_type": "stream",
     "text": [
      "The maximum mpg is 133 for type 2, and the car is manufactured by Toyota.\n"
     ]
    }
   ],
   "source": [
    "max_name_2 = list(vehicles.make[vehicles.combA08 == vehicles.combA08.max()])[0]\n",
    "max_mpg_2 = vehicles.combA08.max()\n",
    "print('The maximum mpg is {} for type 2, and the car is manufactured by {}.'.format(max_mpg_2, max_name_2))"
   ]
  },
  {
   "cell_type": "markdown",
   "metadata": {},
   "source": [
    "# 2. Build a model to predict city mpg (variable “UCity” in column BG)\n",
    "\n",
    "--> Model with only numeric (float & int) features\n",
    "\n",
    "--> Model with all features"
   ]
  },
  {
   "cell_type": "code",
   "execution_count": 17,
   "metadata": {},
   "outputs": [],
   "source": [
    "df = vehicles.copy()"
   ]
  },
  {
   "cell_type": "code",
   "execution_count": 18,
   "metadata": {},
   "outputs": [
    {
     "data": {
      "text/plain": [
       "Index(['barrels08', 'barrelsA08', 'charge120', 'charge240', 'city08',\n",
       "       'city08U', 'cityA08', 'cityA08U', 'cityCD', 'cityE', 'cityUF', 'co2',\n",
       "       'co2A', 'co2TailpipeAGpm', 'co2TailpipeGpm', 'comb08', 'comb08U',\n",
       "       'combA08', 'combA08U', 'combE', 'combinedCD', 'combinedUF', 'cylinders',\n",
       "       'displ', 'drive', 'engId', 'eng_dscr', 'feScore', 'fuelCost08',\n",
       "       'fuelCostA08', 'fuelType', 'fuelType1', 'ghgScore', 'ghgScoreA',\n",
       "       'highway08', 'highway08U', 'highwayA08', 'highwayA08U', 'highwayCD',\n",
       "       'highwayE', 'highwayUF', 'hlv', 'hpv', 'id', 'lv2', 'lv4', 'make',\n",
       "       'model', 'mpgData', 'phevBlended', 'pv2', 'pv4', 'range', 'rangeCity',\n",
       "       'rangeCityA', 'rangeHwy', 'rangeHwyA', 'trany', 'UCity', 'UCityA',\n",
       "       'UHighway', 'UHighwayA', 'VClass', 'year', 'youSaveSpend', 'guzzler',\n",
       "       'trans_dscr', 'tCharger', 'sCharger', 'atvType', 'fuelType2', 'rangeA',\n",
       "       'evMotor', 'mfrCode', 'c240Dscr', 'charge240b', 'c240bDscr',\n",
       "       'createdOn', 'modifiedOn', 'startStop', 'phevCity', 'phevHwy',\n",
       "       'phevComb'],\n",
       "      dtype='object')"
      ]
     },
     "execution_count": 18,
     "metadata": {},
     "output_type": "execute_result"
    }
   ],
   "source": [
    "df.columns"
   ]
  },
  {
   "cell_type": "markdown",
   "metadata": {},
   "source": [
    "## 2.1 Drop columns with more than half Null values"
   ]
  },
  {
   "cell_type": "code",
   "execution_count": 19,
   "metadata": {},
   "outputs": [
    {
     "name": "stdout",
     "output_type": "stream",
     "text": [
      "['guzzler', 'trans_dscr', 'tCharger', 'sCharger', 'atvType', 'fuelType2', 'rangeA', 'evMotor', 'mfrCode', 'c240Dscr', 'c240bDscr', 'startStop']\n"
     ]
    }
   ],
   "source": [
    "lis = list(df.columns)\n",
    "lis_1 =[]\n",
    "for col in lis:\n",
    "    #print(col)\n",
    "    if df[col].isnull().sum() > 20000:\n",
    "        #print(df[col].isnull().sum() > 20000)\n",
    "        lis_1.append(col)\n",
    "    else:\n",
    "        pass \n",
    "print(lis_1)"
   ]
  },
  {
   "cell_type": "code",
   "execution_count": 20,
   "metadata": {},
   "outputs": [],
   "source": [
    "df_1 = df.drop(columns = lis_1)"
   ]
  },
  {
   "cell_type": "code",
   "execution_count": 21,
   "metadata": {},
   "outputs": [
    {
     "name": "stdout",
     "output_type": "stream",
     "text": [
      "<class 'pandas.core.frame.DataFrame'>\n",
      "RangeIndex: 40081 entries, 0 to 40080\n",
      "Data columns (total 71 columns):\n",
      "barrels08          40081 non-null float64\n",
      "barrelsA08         40081 non-null float64\n",
      "charge120          40081 non-null float64\n",
      "charge240          40081 non-null float64\n",
      "city08             40081 non-null int64\n",
      "city08U            40081 non-null float64\n",
      "cityA08            40081 non-null int64\n",
      "cityA08U           40081 non-null float64\n",
      "cityCD             40081 non-null float64\n",
      "cityE              40081 non-null float64\n",
      "cityUF             40081 non-null float64\n",
      "co2                40081 non-null int64\n",
      "co2A               40081 non-null int64\n",
      "co2TailpipeAGpm    40081 non-null float64\n",
      "co2TailpipeGpm     40081 non-null float64\n",
      "comb08             40081 non-null int64\n",
      "comb08U            40081 non-null float64\n",
      "combA08            40081 non-null int64\n",
      "combA08U           40081 non-null float64\n",
      "combE              40081 non-null float64\n",
      "combinedCD         40081 non-null float64\n",
      "combinedUF         40081 non-null float64\n",
      "cylinders          39910 non-null float64\n",
      "displ              39912 non-null float64\n",
      "drive              38892 non-null object\n",
      "engId              40081 non-null int64\n",
      "eng_dscr           24182 non-null object\n",
      "feScore            40081 non-null int64\n",
      "fuelCost08         40081 non-null int64\n",
      "fuelCostA08        40081 non-null int64\n",
      "fuelType           40081 non-null object\n",
      "fuelType1          40081 non-null object\n",
      "ghgScore           40081 non-null int64\n",
      "ghgScoreA          40081 non-null int64\n",
      "highway08          40081 non-null int64\n",
      "highway08U         40081 non-null float64\n",
      "highwayA08         40081 non-null int64\n",
      "highwayA08U        40081 non-null float64\n",
      "highwayCD          40081 non-null float64\n",
      "highwayE           40081 non-null float64\n",
      "highwayUF          40081 non-null float64\n",
      "hlv                40081 non-null int64\n",
      "hpv                40081 non-null int64\n",
      "id                 40081 non-null int64\n",
      "lv2                40081 non-null int64\n",
      "lv4                40081 non-null int64\n",
      "make               40081 non-null object\n",
      "model              40081 non-null object\n",
      "mpgData            40081 non-null object\n",
      "phevBlended        40081 non-null bool\n",
      "pv2                40081 non-null int64\n",
      "pv4                40081 non-null int64\n",
      "range              40081 non-null int64\n",
      "rangeCity          40081 non-null float64\n",
      "rangeCityA         40081 non-null float64\n",
      "rangeHwy           40081 non-null float64\n",
      "rangeHwyA          40081 non-null float64\n",
      "trany              40070 non-null object\n",
      "UCity              40081 non-null float64\n",
      "UCityA             40081 non-null float64\n",
      "UHighway           40081 non-null float64\n",
      "UHighwayA          40081 non-null float64\n",
      "VClass             40081 non-null object\n",
      "year               40081 non-null int64\n",
      "youSaveSpend       40081 non-null int64\n",
      "charge240b         40081 non-null float64\n",
      "createdOn          40081 non-null object\n",
      "modifiedOn         40081 non-null object\n",
      "phevCity           40081 non-null int64\n",
      "phevHwy            40081 non-null int64\n",
      "phevComb           40081 non-null int64\n",
      "dtypes: bool(1), float64(32), int64(27), object(11)\n",
      "memory usage: 21.4+ MB\n"
     ]
    }
   ],
   "source": [
    "df_1.info()"
   ]
  },
  {
   "cell_type": "code",
   "execution_count": 22,
   "metadata": {},
   "outputs": [],
   "source": [
    "df_1 = df_1.drop(columns = ['createdOn', 'modifiedOn'], axis =1)"
   ]
  },
  {
   "cell_type": "markdown",
   "metadata": {},
   "source": [
    "## 2.2 Model based on the numeric data (float and int)"
   ]
  },
  {
   "cell_type": "code",
   "execution_count": 52,
   "metadata": {},
   "outputs": [],
   "source": [
    "df_3 = df_1.select_dtypes(include=['float64', 'int64'])"
   ]
  },
  {
   "cell_type": "code",
   "execution_count": 55,
   "metadata": {},
   "outputs": [
    {
     "name": "stderr",
     "output_type": "stream",
     "text": [
      "C:\\Users\\yijia\\Anaconda3\\lib\\site-packages\\pandas\\core\\generic.py:5434: SettingWithCopyWarning: \n",
      "A value is trying to be set on a copy of a slice from a DataFrame\n",
      "\n",
      "See the caveats in the documentation: http://pandas.pydata.org/pandas-docs/stable/indexing.html#indexing-view-versus-copy\n",
      "  self._update_inplace(new_data)\n"
     ]
    }
   ],
   "source": [
    "# For each numeric variable in X, fill the column with the mean value of the column.\n",
    "num_vars = df_3.columns\n",
    "for num_var in num_vars:\n",
    "    df_3[num_var].fillna((df_3[num_var].mean()), inplace=True)"
   ]
  },
  {
   "cell_type": "code",
   "execution_count": 56,
   "metadata": {},
   "outputs": [],
   "source": [
    "y_1 = df_3['UCity']\n",
    "X_1 = df_3.drop(columns= 'UCity', axis = 1)"
   ]
  },
  {
   "cell_type": "code",
   "execution_count": 57,
   "metadata": {},
   "outputs": [
    {
     "name": "stderr",
     "output_type": "stream",
     "text": [
      "C:\\Users\\yijia\\Anaconda3\\lib\\site-packages\\sklearn\\svm\\base.py:196: FutureWarning: The default value of gamma will change from 'auto' to 'scale' in version 0.22 to account better for unscaled features. Set gamma explicitly to 'auto' or 'scale' to avoid this warning.\n",
      "  \"avoid this warning.\", FutureWarning)\n"
     ]
    }
   ],
   "source": [
    "from sklearn import svm\n",
    "regr = svm.SVR()\n",
    "#Split into train and test\n",
    "X_train_1, X_test_1, y_train_1, y_test_1 = train_test_split(X_1, y_1, test_size = .30, random_state=42) \n",
    "\n",
    "regr.fit(X_train_1, y_train_1)\n",
    "\n",
    "y_pred_1 = regr.predict(X_test_1)"
   ]
  },
  {
   "cell_type": "code",
   "execution_count": 60,
   "metadata": {},
   "outputs": [
    {
     "name": "stdout",
     "output_type": "stream",
     "text": [
      "r2_score: 0.009908238103526701\n",
      "explained_variance_score: 0.03476079425642109\n",
      "mean_absolute_error: 4.833380582896554\n",
      "mean_squared_error: 102.98815449750074\n"
     ]
    }
   ],
   "source": [
    "print('r2_score: '+ str(r2_score(y_test_1, y_pred_1)))\n",
    "print('explained_variance_score: '+ str(explained_variance_score(y_test_1, y_pred_1)))\n",
    "print('mean_absolute_error: '+ str(mean_absolute_error(y_test_1, y_pred_1)))\n",
    "print('mean_squared_error: '+ str(mean_squared_error(y_test_1, y_pred_1)))"
   ]
  },
  {
   "cell_type": "markdown",
   "metadata": {},
   "source": [
    "## 2.3 Model with all features"
   ]
  },
  {
   "cell_type": "code",
   "execution_count": 24,
   "metadata": {},
   "outputs": [],
   "source": [
    "df_2 = pd.get_dummies(df_1)"
   ]
  },
  {
   "cell_type": "code",
   "execution_count": 25,
   "metadata": {},
   "outputs": [
    {
     "data": {
      "text/html": [
       "<div>\n",
       "<style scoped>\n",
       "    .dataframe tbody tr th:only-of-type {\n",
       "        vertical-align: middle;\n",
       "    }\n",
       "\n",
       "    .dataframe tbody tr th {\n",
       "        vertical-align: top;\n",
       "    }\n",
       "\n",
       "    .dataframe thead th {\n",
       "        text-align: right;\n",
       "    }\n",
       "</style>\n",
       "<table border=\"1\" class=\"dataframe\">\n",
       "  <thead>\n",
       "    <tr style=\"text-align: right;\">\n",
       "      <th></th>\n",
       "      <th>barrels08</th>\n",
       "      <th>barrelsA08</th>\n",
       "      <th>charge120</th>\n",
       "      <th>charge240</th>\n",
       "      <th>city08</th>\n",
       "      <th>city08U</th>\n",
       "      <th>cityA08</th>\n",
       "      <th>cityA08U</th>\n",
       "      <th>cityCD</th>\n",
       "      <th>cityE</th>\n",
       "      <th>...</th>\n",
       "      <th>VClass_Standard Pickup Trucks 4WD</th>\n",
       "      <th>VClass_Standard Pickup Trucks/2wd</th>\n",
       "      <th>VClass_Standard Sport Utility Vehicle 2WD</th>\n",
       "      <th>VClass_Standard Sport Utility Vehicle 4WD</th>\n",
       "      <th>VClass_Subcompact Cars</th>\n",
       "      <th>VClass_Two Seaters</th>\n",
       "      <th>VClass_Vans</th>\n",
       "      <th>VClass_Vans Passenger</th>\n",
       "      <th>VClass_Vans, Cargo Type</th>\n",
       "      <th>VClass_Vans, Passenger Type</th>\n",
       "    </tr>\n",
       "  </thead>\n",
       "  <tbody>\n",
       "    <tr>\n",
       "      <th>0</th>\n",
       "      <td>15.695714</td>\n",
       "      <td>0.0</td>\n",
       "      <td>0.0</td>\n",
       "      <td>0.0</td>\n",
       "      <td>19</td>\n",
       "      <td>0.0</td>\n",
       "      <td>0</td>\n",
       "      <td>0.0</td>\n",
       "      <td>0.0</td>\n",
       "      <td>0.0</td>\n",
       "      <td>...</td>\n",
       "      <td>0</td>\n",
       "      <td>0</td>\n",
       "      <td>0</td>\n",
       "      <td>0</td>\n",
       "      <td>0</td>\n",
       "      <td>1</td>\n",
       "      <td>0</td>\n",
       "      <td>0</td>\n",
       "      <td>0</td>\n",
       "      <td>0</td>\n",
       "    </tr>\n",
       "    <tr>\n",
       "      <th>1</th>\n",
       "      <td>29.964545</td>\n",
       "      <td>0.0</td>\n",
       "      <td>0.0</td>\n",
       "      <td>0.0</td>\n",
       "      <td>9</td>\n",
       "      <td>0.0</td>\n",
       "      <td>0</td>\n",
       "      <td>0.0</td>\n",
       "      <td>0.0</td>\n",
       "      <td>0.0</td>\n",
       "      <td>...</td>\n",
       "      <td>0</td>\n",
       "      <td>0</td>\n",
       "      <td>0</td>\n",
       "      <td>0</td>\n",
       "      <td>0</td>\n",
       "      <td>1</td>\n",
       "      <td>0</td>\n",
       "      <td>0</td>\n",
       "      <td>0</td>\n",
       "      <td>0</td>\n",
       "    </tr>\n",
       "    <tr>\n",
       "      <th>2</th>\n",
       "      <td>12.207778</td>\n",
       "      <td>0.0</td>\n",
       "      <td>0.0</td>\n",
       "      <td>0.0</td>\n",
       "      <td>23</td>\n",
       "      <td>0.0</td>\n",
       "      <td>0</td>\n",
       "      <td>0.0</td>\n",
       "      <td>0.0</td>\n",
       "      <td>0.0</td>\n",
       "      <td>...</td>\n",
       "      <td>0</td>\n",
       "      <td>0</td>\n",
       "      <td>0</td>\n",
       "      <td>0</td>\n",
       "      <td>1</td>\n",
       "      <td>0</td>\n",
       "      <td>0</td>\n",
       "      <td>0</td>\n",
       "      <td>0</td>\n",
       "      <td>0</td>\n",
       "    </tr>\n",
       "    <tr>\n",
       "      <th>3</th>\n",
       "      <td>29.964545</td>\n",
       "      <td>0.0</td>\n",
       "      <td>0.0</td>\n",
       "      <td>0.0</td>\n",
       "      <td>10</td>\n",
       "      <td>0.0</td>\n",
       "      <td>0</td>\n",
       "      <td>0.0</td>\n",
       "      <td>0.0</td>\n",
       "      <td>0.0</td>\n",
       "      <td>...</td>\n",
       "      <td>0</td>\n",
       "      <td>0</td>\n",
       "      <td>0</td>\n",
       "      <td>0</td>\n",
       "      <td>0</td>\n",
       "      <td>0</td>\n",
       "      <td>1</td>\n",
       "      <td>0</td>\n",
       "      <td>0</td>\n",
       "      <td>0</td>\n",
       "    </tr>\n",
       "    <tr>\n",
       "      <th>4</th>\n",
       "      <td>17.347895</td>\n",
       "      <td>0.0</td>\n",
       "      <td>0.0</td>\n",
       "      <td>0.0</td>\n",
       "      <td>17</td>\n",
       "      <td>0.0</td>\n",
       "      <td>0</td>\n",
       "      <td>0.0</td>\n",
       "      <td>0.0</td>\n",
       "      <td>0.0</td>\n",
       "      <td>...</td>\n",
       "      <td>0</td>\n",
       "      <td>0</td>\n",
       "      <td>0</td>\n",
       "      <td>0</td>\n",
       "      <td>0</td>\n",
       "      <td>0</td>\n",
       "      <td>0</td>\n",
       "      <td>0</td>\n",
       "      <td>0</td>\n",
       "      <td>0</td>\n",
       "    </tr>\n",
       "  </tbody>\n",
       "</table>\n",
       "<p>5 rows × 4806 columns</p>\n",
       "</div>"
      ],
      "text/plain": [
       "   barrels08  barrelsA08  charge120  charge240  city08  city08U  cityA08  \\\n",
       "0  15.695714         0.0        0.0        0.0      19      0.0        0   \n",
       "1  29.964545         0.0        0.0        0.0       9      0.0        0   \n",
       "2  12.207778         0.0        0.0        0.0      23      0.0        0   \n",
       "3  29.964545         0.0        0.0        0.0      10      0.0        0   \n",
       "4  17.347895         0.0        0.0        0.0      17      0.0        0   \n",
       "\n",
       "   cityA08U  cityCD  cityE             ...               \\\n",
       "0       0.0     0.0    0.0             ...                \n",
       "1       0.0     0.0    0.0             ...                \n",
       "2       0.0     0.0    0.0             ...                \n",
       "3       0.0     0.0    0.0             ...                \n",
       "4       0.0     0.0    0.0             ...                \n",
       "\n",
       "   VClass_Standard Pickup Trucks 4WD  VClass_Standard Pickup Trucks/2wd  \\\n",
       "0                                  0                                  0   \n",
       "1                                  0                                  0   \n",
       "2                                  0                                  0   \n",
       "3                                  0                                  0   \n",
       "4                                  0                                  0   \n",
       "\n",
       "   VClass_Standard Sport Utility Vehicle 2WD  \\\n",
       "0                                          0   \n",
       "1                                          0   \n",
       "2                                          0   \n",
       "3                                          0   \n",
       "4                                          0   \n",
       "\n",
       "   VClass_Standard Sport Utility Vehicle 4WD  VClass_Subcompact Cars  \\\n",
       "0                                          0                       0   \n",
       "1                                          0                       0   \n",
       "2                                          0                       1   \n",
       "3                                          0                       0   \n",
       "4                                          0                       0   \n",
       "\n",
       "   VClass_Two Seaters  VClass_Vans  VClass_Vans Passenger  \\\n",
       "0                   1            0                      0   \n",
       "1                   1            0                      0   \n",
       "2                   0            0                      0   \n",
       "3                   0            1                      0   \n",
       "4                   0            0                      0   \n",
       "\n",
       "   VClass_Vans, Cargo Type  VClass_Vans, Passenger Type  \n",
       "0                        0                            0  \n",
       "1                        0                            0  \n",
       "2                        0                            0  \n",
       "3                        0                            0  \n",
       "4                        0                            0  \n",
       "\n",
       "[5 rows x 4806 columns]"
      ]
     },
     "execution_count": 25,
     "metadata": {},
     "output_type": "execute_result"
    }
   ],
   "source": [
    "df_2.head()"
   ]
  },
  {
   "cell_type": "code",
   "execution_count": 26,
   "metadata": {},
   "outputs": [
    {
     "name": "stdout",
     "output_type": "stream",
     "text": [
      "<class 'pandas.core.frame.DataFrame'>\n",
      "RangeIndex: 40081 entries, 0 to 40080\n",
      "Columns: 4806 entries, barrels08 to VClass_Vans, Passenger Type\n",
      "dtypes: bool(1), float64(32), int64(27), uint8(4746)\n",
      "memory usage: 199.5 MB\n"
     ]
    }
   ],
   "source": [
    "df_2.info()"
   ]
  },
  {
   "cell_type": "code",
   "execution_count": 28,
   "metadata": {},
   "outputs": [
    {
     "data": {
      "text/plain": [
       "count    40081.000000\n",
       "mean        22.981798\n",
       "std         10.473444\n",
       "min          0.000000\n",
       "25%         18.110500\n",
       "50%         21.296500\n",
       "75%         25.700000\n",
       "max        224.800000\n",
       "Name: UCity, dtype: float64"
      ]
     },
     "execution_count": 28,
     "metadata": {},
     "output_type": "execute_result"
    }
   ],
   "source": [
    "df_2.UCity.describe()"
   ]
  },
  {
   "cell_type": "code",
   "execution_count": 29,
   "metadata": {},
   "outputs": [],
   "source": [
    "# For each numeric variable in X, fill the column with the mean value of the column.\n",
    "num_vars = df_2.columns\n",
    "for num_var in num_vars:\n",
    "    df_2[num_var].fillna((df_2[num_var].mean()), inplace=True)"
   ]
  },
  {
   "cell_type": "code",
   "execution_count": 30,
   "metadata": {},
   "outputs": [
    {
     "name": "stdout",
     "output_type": "stream",
     "text": [
      "<class 'pandas.core.frame.DataFrame'>\n",
      "RangeIndex: 40081 entries, 0 to 40080\n",
      "Columns: 4806 entries, barrels08 to VClass_Vans, Passenger Type\n",
      "dtypes: bool(1), float64(32), int64(27), uint8(4746)\n",
      "memory usage: 199.5 MB\n"
     ]
    }
   ],
   "source": [
    "df_2.info()"
   ]
  },
  {
   "cell_type": "code",
   "execution_count": 36,
   "metadata": {},
   "outputs": [],
   "source": [
    "y = df_2['UCity']\n",
    "X = df_2.drop(columns= 'UCity', axis = 1)"
   ]
  },
  {
   "cell_type": "code",
   "execution_count": 41,
   "metadata": {},
   "outputs": [
    {
     "name": "stderr",
     "output_type": "stream",
     "text": [
      "C:\\Users\\yijia\\Anaconda3\\lib\\site-packages\\sklearn\\svm\\base.py:196: FutureWarning: The default value of gamma will change from 'auto' to 'scale' in version 0.22 to account better for unscaled features. Set gamma explicitly to 'auto' or 'scale' to avoid this warning.\n",
      "  \"avoid this warning.\", FutureWarning)\n"
     ]
    }
   ],
   "source": [
    "from sklearn import svm\n",
    "regr = svm.SVR()\n",
    "#Split into train and test\n",
    "X_train, X_test, y_train, y_test = train_test_split(X, y, test_size = .30, random_state=42) \n",
    "\n",
    "regr.fit(X_train, y_train)\n",
    "\n",
    "y_pred = regr.predict(X_test)"
   ]
  },
  {
   "cell_type": "code",
   "execution_count": 61,
   "metadata": {},
   "outputs": [
    {
     "name": "stdout",
     "output_type": "stream",
     "text": [
      "r2_score: 0.07540855323972728\n",
      "explained_variance_score: 0.09786316825549446\n",
      "mean_absolute_error: 4.099100816478442\n",
      "mean_squared_error: 96.17489048047585\n"
     ]
    }
   ],
   "source": [
    "print('r2_score: '+ str(r2_score(y_test, y_pred)))\n",
    "print('explained_variance_score: '+ str(explained_variance_score(y_test, y_pred)))\n",
    "print('mean_absolute_error: '+ str(mean_absolute_error(y_test, y_pred)))\n",
    "print('mean_squared_error: '+ str(mean_squared_error(y_test, y_pred)))"
   ]
  }
 ],
 "metadata": {
  "kernelspec": {
   "display_name": "Python 3",
   "language": "python",
   "name": "python3"
  },
  "language_info": {
   "codemirror_mode": {
    "name": "ipython",
    "version": 3
   },
   "file_extension": ".py",
   "mimetype": "text/x-python",
   "name": "python",
   "nbconvert_exporter": "python",
   "pygments_lexer": "ipython3",
   "version": "3.7.1"
  }
 },
 "nbformat": 4,
 "nbformat_minor": 2
}
